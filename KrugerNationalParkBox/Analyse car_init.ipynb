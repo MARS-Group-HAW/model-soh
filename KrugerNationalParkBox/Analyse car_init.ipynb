{
 "cells": [
  {
   "cell_type": "markdown",
   "id": "danish-render",
   "metadata": {},
   "source": [
    "# Analyze current car_init.csv"
   ]
  },
  {
   "cell_type": "code",
   "execution_count": 38,
   "id": "level-outside",
   "metadata": {},
   "outputs": [],
   "source": [
    "import pandas as pd\n",
    "import geopandas\n",
    "import matplotlib.pyplot as plt\n",
    "\n",
    "from pyproj import Geod\n",
    "from shapely.geometry import MultiPoint\n",
    "from shapely.geometry import Point, LineString, Polygon\n",
    "\n",
    "\n",
    "import contextily as ctx\n"
   ]
  },
  {
   "cell_type": "markdown",
   "id": "different-commission",
   "metadata": {},
   "source": []
  },
  {
   "cell_type": "code",
   "execution_count": 4,
   "id": "constant-magic",
   "metadata": {},
   "outputs": [],
   "source": [
    "df = pd.read_csv('resources/car_init.csv', sep=';')"
   ]
  },
  {
   "cell_type": "code",
   "execution_count": 5,
   "id": "heavy-conviction",
   "metadata": {},
   "outputs": [
    {
     "name": "stdout",
     "output_type": "stream",
     "text": [
      "<class 'pandas.core.frame.DataFrame'>\n",
      "RangeIndex: 1000 entries, 0 to 999\n",
      "Data columns (total 6 columns):\n",
      " #   Column     Non-Null Count  Dtype  \n",
      "---  ------     --------------  -----  \n",
      " 0   startLon   500 non-null    float64\n",
      " 1   startLat   500 non-null    float64\n",
      " 2   destLon    500 non-null    float64\n",
      " 3   destLat    500 non-null    float64\n",
      " 4   driveMode  1000 non-null   int64  \n",
      " 5   maxSpeed   1000 non-null   float64\n",
      "dtypes: float64(5), int64(1)\n",
      "memory usage: 47.0 KB\n"
     ]
    }
   ],
   "source": [
    "df.info()"
   ]
  },
  {
   "cell_type": "code",
   "execution_count": null,
   "id": "correct-senior",
   "metadata": {},
   "outputs": [],
   "source": [
    "df.groupby(['startLon','startLat']).size().reset_index().rename(columns={0:'count'})"
   ]
  },
  {
   "cell_type": "code",
   "execution_count": null,
   "id": "micro-voltage",
   "metadata": {},
   "outputs": [],
   "source": [
    "df.groupby(['destLon','destLat']).size().reset_index().rename(columns={0:'count'})"
   ]
  },
  {
   "cell_type": "code",
   "execution_count": null,
   "id": "periodic-individual",
   "metadata": {},
   "outputs": [],
   "source": [
    "df.groupby(['startLon','startLat', 'destLon','destLat']).size().reset_index().rename(columns={0:'count'})"
   ]
  },
  {
   "cell_type": "code",
   "execution_count": 35,
   "id": "exact-spring",
   "metadata": {},
   "outputs": [
    {
     "data": {
      "text/plain": [
       "<AxesSubplot:>"
      ]
     },
     "execution_count": 35,
     "metadata": {},
     "output_type": "execute_result"
    },
    {
     "data": {
      "image/png": "[encoded data removed]",
      "text/plain": [
       "<Figure size 432x288 with 1 Axes>"
      ]
     },
     "metadata": {
      "needs_background": "light"
     },
     "output_type": "display_data"
    }
   ],
   "source": [
    "df['maxSpeed'].hist()"
   ]
  },
  {
   "cell_type": "code",
   "execution_count": 1,
   "id": "informed-timer",
   "metadata": {},
   "outputs": [],
   "source": [
    "from shapely.geometry import Point\n",
    "from shapely.geometry import MultiPoint\n",
    "\n",
    "\n",
    "# lon, lat\n",
    "gateways = [\n",
    "    Point(31.482268, -24.979422),\n",
    "    Point(31.534930, -25.460457),\n",
    "    Point(31.591958, -24.994678),\n",
    "    Point(31.779859, -24.389864),\n",
    "    Point(31.894040, -25.362301),\n",
    "    Point(31.915333, -25.115829),\n",
    "]\n",
    "\n",
    "# test points\n",
    "gateways = [\n",
    "    Point(31.3124044, -22.4486818),\n",
    "    Point(31.0835867, -22.4402731),\n",
    "    Point(31.0446678, -22.7104647),\n",
    "]\n"
   ]
  },
  {
   "cell_type": "code",
   "execution_count": 2,
   "id": "fluid-deployment",
   "metadata": {},
   "outputs": [
    {
     "data": {
      "text/plain": [
       "'POINT (31.3124044 -22.4486818)'"
      ]
     },
     "execution_count": 2,
     "metadata": {},
     "output_type": "execute_result"
    }
   ],
   "source": [
    "gateways[0].wkt"
   ]
  },
  {
   "cell_type": "code",
   "execution_count": 5,
   "id": "executive-dollar",
   "metadata": {},
   "outputs": [],
   "source": [
    "scheduler_rows = []\n",
    "\n",
    "for source in gateways:\n",
    "\n",
    "    target_list = []\n",
    "\n",
    "    for target in gateways:\n",
    "        if source is not target:\n",
    "            target_list.append(target)\n",
    "\n",
    "    mp = MultiPoint(target_list)\n",
    "\n",
    "    scheduler_rows.append({\n",
    "        'startTime': '0:00',\n",
    "        'endTime': '23:00',\n",
    "        'spawningIntervalInMinutes': 1,\n",
    "        'spawningAmount': 1,\n",
    "        'source': source.wkt,\n",
    "        'destination': mp.wkt\n",
    "    })\n",
    "\n",
    "scheduler_df = pd.DataFrame(scheduler_rows)\n",
    "scheduler_df.to_csv('tourist_scheduler.csv', index=False)"
   ]
  },
  {
   "cell_type": "code",
   "execution_count": 6,
   "id": "cross-belarus",
   "metadata": {},
   "outputs": [
    {
     "data": {
      "text/html": [
       "<div>\n",
       "<style scoped>\n",
       "    .dataframe tbody tr th:only-of-type {\n",
       "        vertical-align: middle;\n",
       "    }\n",
       "\n",
       "    .dataframe tbody tr th {\n",
       "        vertical-align: top;\n",
       "    }\n",
       "\n",
       "    .dataframe thead th {\n",
       "        text-align: right;\n",
       "    }\n",
       "</style>\n",
       "<table border=\"1\" class=\"dataframe\">\n",
       "  <thead>\n",
       "    <tr style=\"text-align: right;\">\n",
       "      <th></th>\n",
       "      <th>startTime</th>\n",
       "      <th>endTime</th>\n",
       "      <th>spawningIntervalInMinutes</th>\n",
       "      <th>spawningAmount</th>\n",
       "      <th>source</th>\n",
       "      <th>destination</th>\n",
       "    </tr>\n",
       "  </thead>\n",
       "  <tbody>\n",
       "    <tr>\n",
       "      <th>0</th>\n",
       "      <td>0:00</td>\n",
       "      <td>23:00</td>\n",
       "      <td>1</td>\n",
       "      <td>1</td>\n",
       "      <td>POINT (31.3124044 -22.4486818)</td>\n",
       "      <td>MULTIPOINT (31.0835867 -22.4402731, 31.0446678...</td>\n",
       "    </tr>\n",
       "    <tr>\n",
       "      <th>1</th>\n",
       "      <td>0:00</td>\n",
       "      <td>23:00</td>\n",
       "      <td>1</td>\n",
       "      <td>1</td>\n",
       "      <td>POINT (31.0835867 -22.4402731)</td>\n",
       "      <td>MULTIPOINT (31.3124044 -22.4486818, 31.0446678...</td>\n",
       "    </tr>\n",
       "    <tr>\n",
       "      <th>2</th>\n",
       "      <td>0:00</td>\n",
       "      <td>23:00</td>\n",
       "      <td>1</td>\n",
       "      <td>1</td>\n",
       "      <td>POINT (31.0446678 -22.7104647)</td>\n",
       "      <td>MULTIPOINT (31.3124044 -22.4486818, 31.0835867...</td>\n",
       "    </tr>\n",
       "  </tbody>\n",
       "</table>\n",
       "</div>"
      ],
      "text/plain": [
       "  startTime endTime  spawningIntervalInMinutes  spawningAmount  \\\n",
       "0      0:00   23:00                          1               1   \n",
       "1      0:00   23:00                          1               1   \n",
       "2      0:00   23:00                          1               1   \n",
       "\n",
       "                           source  \\\n",
       "0  POINT (31.3124044 -22.4486818)   \n",
       "1  POINT (31.0835867 -22.4402731)   \n",
       "2  POINT (31.0446678 -22.7104647)   \n",
       "\n",
       "                                         destination  \n",
       "0  MULTIPOINT (31.0835867 -22.4402731, 31.0446678...  \n",
       "1  MULTIPOINT (31.3124044 -22.4486818, 31.0446678...  \n",
       "2  MULTIPOINT (31.3124044 -22.4486818, 31.0835867...  "
      ]
     },
     "execution_count": 6,
     "metadata": {},
     "output_type": "execute_result"
    }
   ],
   "source": [
    "scheduler_df"
   ]
  },
  {
   "cell_type": "markdown",
   "id": "variable-straight",
   "metadata": {},
   "source": [
    "# Use KNP provided points\n",
    "\n",
    "Gates: https://www.sanparks.org/parks/kruger/get_there/gates.php und https://en.wikipedia.org/wiki/Kruger_National_Park#Gates_to_the_Kruger_Park\n",
    "\n",
    "Rest points und get out points?\n",
    "https://www.sanparks.org/images/parks/kruger/maps/originals/knp_map.jpg\n",
    "\n",
    "Travel times between points/gates:\n",
    "\n",
    "https://www.sanparks.org/parks/kruger/get_there/travel_times.php\n"
   ]
  },
  {
   "cell_type": "code",
   "execution_count": 2,
   "id": "educational-shaft",
   "metadata": {},
   "outputs": [],
   "source": [
    "# load camps\n",
    "df = pd.read_excel('camp_waypoints.xls')"
   ]
  },
  {
   "cell_type": "code",
   "execution_count": 4,
   "id": "capital-berkeley",
   "metadata": {},
   "outputs": [
    {
     "data": {
      "text/plain": [
       "array(['Bushveld camp', 'Rest camp', 'Trails camp', 'Caravan site',\n",
       "       'Tented camp', 'Camping site'], dtype=object)"
      ]
     },
     "execution_count": 4,
     "metadata": {},
     "output_type": "execute_result"
    }
   ],
   "source": [
    "df['Camp Type'].unique()"
   ]
  },
  {
   "cell_type": "code",
   "execution_count": 5,
   "id": "monetary-south",
   "metadata": {},
   "outputs": [],
   "source": [
    "gdf = geopandas.GeoDataFrame(\n",
    "    df, geometry=geopandas.points_from_xy(df['Longitude (E)'], df['Latitude (S)']))"
   ]
  },
  {
   "cell_type": "code",
   "execution_count": 34,
   "id": "signed-antigua",
   "metadata": {},
   "outputs": [],
   "source": [
    "df.to_csv('camp_waypoints.csv', index=False)"
   ]
  },
  {
   "cell_type": "code",
   "execution_count": 25,
   "id": "endless-worthy",
   "metadata": {},
   "outputs": [],
   "source": [
    "gates = [\n",
    "    {\n",
    "        'name': 'Crocodile Bridge Gate',\n",
    "        'lng': 31.893563,\n",
    "        'lat':-25.358438,\n",
    "    },\n",
    "\n",
    "    {\n",
    "        'name': 'Kruger Gate',\n",
    "        'lng':31.484812,\n",
    "        'lat':-24.980938,\n",
    "    },\n",
    "    {\n",
    "        'name': 'Malelane Gate',\n",
    "        'lng': 31.532321,\n",
    "        'lat':-25.462187,\n",
    "    },\n",
    "\n",
    "    {\n",
    "        'name': 'Numbi Gate',\n",
    "        'lng':31.198188,\n",
    "        'lat':-25.155313,\n",
    "    },\n",
    "\n",
    "    {\n",
    "        'name': 'Orpen Gate',\n",
    "        'lng': 31.390833,\n",
    "        'lat': -24.475833,\n",
    "    },\n",
    "\n",
    "    {\n",
    "        'name': 'Pafuri Gate',\n",
    "        'lng': 31.041389,\n",
    "        'lat': -22.400278,\n",
    "    },\n",
    "\n",
    "    {\n",
    "        'name': 'Phabeni Gate',\n",
    "        'lng': 31.240647,\n",
    "        'lat':-25.024690,\n",
    "    },\n",
    "    {\n",
    "        'name': 'Phalaborwa Gate',\n",
    "        'lng': 31.165687,\n",
    "        'lat': -23.945687,\n",
    "    },\n",
    "    {\n",
    "        'name': 'Punda Maria Gate',\n",
    "        'lng': 31.010438,\n",
    "        'lat': -22.737313,\n",
    "    },\n",
    "]\n",
    "\n",
    "df_gates = pd.DataFrame(gates)"
   ]
  },
  {
   "cell_type": "code",
   "execution_count": 26,
   "id": "recreational-extra",
   "metadata": {},
   "outputs": [],
   "source": [
    "df_gates.to_csv('gates.csv', index=False)"
   ]
  },
  {
   "cell_type": "code",
   "execution_count": 45,
   "id": "exotic-journey",
   "metadata": {},
   "outputs": [],
   "source": [
    "fence_wkt = \"POLYGON ((31.00616455078125 -25.579607925105687, 32.20092773437499 -25.579607925105687, 32.20092773437499 -24.9337667593888, 31.00616455078125 -24.9337667593888, 31.00616455078125 -25.579607925105687))\"\n",
    "import shapely.wkt\n",
    "\n",
    "fence = shapely.wkt.loads(fence_wkt)\n"
   ]
  },
  {
   "cell_type": "markdown",
   "id": "functioning-approval",
   "metadata": {},
   "source": [
    "# Gate -> Camp\n",
    "\n",
    "Scheduler CSV file for commuters:\n",
    "\n",
    "- distance musst be >= 2km and < 90km\n",
    "- inside fence (only for development)\n"
   ]
  },
  {
   "cell_type": "code",
   "execution_count": 35,
   "id": "dramatic-crazy",
   "metadata": {},
   "outputs": [],
   "source": [
    "camps_df = df[df['Camp Type'] == 'Rest camp']"
   ]
  },
  {
   "cell_type": "code",
   "execution_count": 47,
   "id": "liquid-equality",
   "metadata": {},
   "outputs": [],
   "source": [
    "scheduler_rows = []\n",
    "connections = []\n",
    "\n",
    "for gate in gates:\n",
    "\n",
    "    source = Point(gate['lng'], gate['lat'])\n",
    "    target_list = []\n",
    "\n",
    "    if not fence.contains(source):\n",
    "        continue\n",
    "\n",
    "    for target in camps_df['geometry'].tolist():\n",
    "\n",
    "        line_string = LineString([source, target])\n",
    "        geod = Geod(ellps=\"WGS84\")\n",
    "        distance = geod.geometry_length(line_string) # in meters\n",
    "\n",
    "        if not fence.contains(target):\n",
    "            continue\n",
    "\n",
    "        # check if gate and camp are identical\n",
    "        if distance < 2000:\n",
    "            #print(\"distance from {} to x  to short ({}).\".format(gate['name'], line_string.wkt))\n",
    "            continue\n",
    "\n",
    "        if distance > (90*1000):\n",
    "            #print(\"distance from {} to x  to long ({}).\".format(gate['name'], line_string.wkt))\n",
    "            continue\n",
    "\n",
    "        if source is not target:\n",
    "            target_list.append(target)\n",
    "            connections.append({'wkt': line_string.wkt})\n",
    "\n",
    "    mp = MultiPoint(target_list)\n",
    "\n",
    "\n",
    "    scheduler_rows.append({\n",
    "        'startTime': '6:00',\n",
    "        'endTime': '8:00',\n",
    "        'spawningIntervalInMinutes': 5,\n",
    "        'spawningAmount': 1,\n",
    "        'gateName': gate['name'],\n",
    "        'source': source.wkt,\n",
    "        'destination': mp.wkt\n",
    "    })\n",
    "\n",
    "    scheduler_rows.append({\n",
    "        'startTime': '8:00',\n",
    "        'endTime': '12:00',\n",
    "        'spawningIntervalInMinutes': 45,\n",
    "        'spawningAmount': 1,\n",
    "        'gateName': gate['name'],\n",
    "        'source': source.wkt,\n",
    "        'destination': mp.wkt\n",
    "    })\n",
    "\n",
    "scheduler_df = pd.DataFrame(scheduler_rows)\n",
    "scheduler_df.to_csv('CommScheduler.csv', index=False)\n",
    "\n",
    "scheduler_df = pd.DataFrame(connections)\n",
    "scheduler_df.to_csv('connections.csv', index=False)\n"
   ]
  },
  {
   "cell_type": "markdown",
   "id": "ranking-venice",
   "metadata": {},
   "source": [
    "# Camp -> Camp"
   ]
  },
  {
   "cell_type": "code",
   "execution_count": 48,
   "id": "dried-redhead",
   "metadata": {},
   "outputs": [],
   "source": [
    "scheduler_rows = []\n",
    "connections = []\n",
    "\n",
    "for source in camps_df['geometry'].tolist():\n",
    "\n",
    "    target_list = []\n",
    "\n",
    "    if not fence.contains(source):\n",
    "        continue\n",
    "\n",
    "    for target in camps_df['geometry'].tolist():\n",
    "\n",
    "        line_string = LineString([source, target])\n",
    "        geod = Geod(ellps=\"WGS84\")\n",
    "        distance = geod.geometry_length(line_string) # in meters\n",
    "\n",
    "        if not fence.contains(target):\n",
    "            continue\n",
    "\n",
    "        if distance > (200*1000):\n",
    "            #print(\"distance from {} to x  to long ({}).\".format(gate['name'], line_string.wkt))\n",
    "            continue\n",
    "\n",
    "        if source is not target:\n",
    "            target_list.append(target)\n",
    "            connections.append({'wkt': line_string.wkt})\n",
    "\n",
    "    mp = MultiPoint(target_list)\n",
    "\n",
    "    scheduler_rows.append({\n",
    "        'startTime': '6:00',\n",
    "        'endTime': '12:00',\n",
    "        'spawningIntervalInMinutes': 30,\n",
    "        'spawningAmount': 1,\n",
    "        'source': source.wkt,\n",
    "        'destination': mp.wkt\n",
    "    })\n",
    "\n",
    "\n",
    "scheduler_df = pd.DataFrame(scheduler_rows)\n",
    "scheduler_df.to_csv('Camp2CampScheduler.csv', index=False)"
   ]
  },
  {
   "cell_type": "markdown",
   "id": "metallic-presentation",
   "metadata": {},
   "source": [
    "# visualization"
   ]
  },
  {
   "cell_type": "code",
   "execution_count": 28,
   "id": "recovered-discharge",
   "metadata": {},
   "outputs": [],
   "source": [
    "gates_gdf = geopandas.GeoDataFrame(\n",
    "    df_gates, geometry=geopandas.points_from_xy(df_gates['lng'], df_gates['lat']))"
   ]
  },
  {
   "cell_type": "code",
   "execution_count": 51,
   "id": "systematic-convention",
   "metadata": {},
   "outputs": [
    {
     "data": {
      "text/plain": [
       "<matplotlib.legend.Legend at 0x1205a1fd0>"
      ]
     },
     "execution_count": 51,
     "metadata": {},
     "output_type": "execute_result"
    },
    {
     "data": {
      "image/png": "[encoded data removed]",
      "text/plain": [
       "<Figure size 1080x1080 with 1 Axes>"
      ]
     },
     "metadata": {
      "needs_background": "light"
     },
     "output_type": "display_data"
    }
   ],
   "source": [
    "map_df = geopandas.read_file('knp.geojson')\n",
    "\n",
    "fig, ax = plt.subplots(figsize = (15, 15))\n",
    "\n",
    "ax.set(title=\"KNP\")\n",
    "map_df.plot(ax = ax, alpha = 0.75, facecolor='none', edgecolor='black')\n",
    "\n",
    "gdf.plot(ax=ax, color='red', label=\"All Camps\")\n",
    "gates_gdf.plot(ax=ax, color='blue', label=\"All Gates\")\n",
    "\n",
    "\n",
    "ax.set_axis_off() # no axis needed in mercator?\n",
    "plt.legend(framealpha=1, prop={'size':15})"
   ]
  }
 ],
 "metadata": {
  "kernelspec": {
   "display_name": "Python 3",
   "language": "python",
   "name": "python3"
  },
  "language_info": {
   "codemirror_mode": {
    "name": "ipython",
    "version": 3
   },
   "file_extension": ".py",
   "mimetype": "text/x-python",
   "name": "python",
   "nbconvert_exporter": "python",
   "pygments_lexer": "ipython3",
   "version": "3.9.0"
  }
 },
 "nbformat": 4,
 "nbformat_minor": 5
}
